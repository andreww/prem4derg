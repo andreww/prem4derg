{
 "cells": [
  {
   "cell_type": "markdown",
   "metadata": {
    "slideshow": {
     "slide_type": "notes"
    }
   },
   "source": [
    "# Slides for week 1 of PREM 4 DERG\n",
    "\n",
    "This is a set of slides and code for week 1 of the PREM for DERG sessions.\n",
    "It is a slide show to introduce PREM, to get people thinking, and to have some\n",
    "code to play with."
   ]
  },
  {
   "cell_type": "code",
   "execution_count": 1,
   "metadata": {
    "slideshow": {
     "slide_type": "notes"
    }
   },
   "outputs": [],
   "source": [
    "import numpy as np\n",
    "import matplotlib.pyplot as plt\n",
    "\n",
    "%matplotlib inline "
   ]
  },
  {
   "cell_type": "markdown",
   "metadata": {
    "slideshow": {
     "slide_type": "slide"
    }
   },
   "source": [
    "# have you cited PREM?"
   ]
  },
  {
   "cell_type": "markdown",
   "metadata": {
    "slideshow": {
     "slide_type": "slide"
    }
   },
   "source": [
    "# What is PREM"
   ]
  },
  {
   "cell_type": "code",
   "execution_count": 2,
   "metadata": {
    "slideshow": {
     "slide_type": "slide"
    }
   },
   "outputs": [],
   "source": [
    "# Show PREM plots"
   ]
  },
  {
   "cell_type": "code",
   "execution_count": 3,
   "metadata": {},
   "outputs": [],
   "source": [
    "class PeicewisePolynomial(object):\n",
    "    \"\"\"\n",
    "    Peicewise Polynomials a different way\n",
    "    \n",
    "    The SciPy PPoly class defines a function from\n",
    "    polynomials with coefficents c and breakpoints x\n",
    "    evaluated at a point xp thus:\n",
    "    \n",
    "       S = sum(c[m, i] * (xp - x[i])**(k-m) for m in range(k+1))\n",
    "    \n",
    "    This is not helpful for PREM, so we wrap PPoly and make a \n",
    "    new class defining the function:\n",
    "    \n",
    "       S = sum(c[m, i] * (xp - x[i])**(k-m) for m in range(k+1))\n",
    "       \n",
    "    \"\"\"\n",
    "    \n",
    "    def __init__(self, c, x):\n",
    "        self.breakpoints = x \n",
    "        self.coeffs = c\n",
    "        \n",
    "        \n",
    "    def __call__(self, xp):\n",
    "        if np.ndim(xp) == 0:\n",
    "            value = self._evaluate_at_point(xp)\n",
    "        else:\n",
    "            value = np.zeros_like(xp)\n",
    "            for i in range(xp.size):\n",
    "                value[i] = self._evaluate_at_point(xp[i])\n",
    "        return value        \n",
    "        \n",
    "        \n",
    "    def _evaluate_at_point(self, x):\n",
    "        \"\"\"\n",
    "        Evaluate peicewise polynomal at point x\n",
    "        \"\"\"\n",
    "        coef = self._get_coefs(x)\n",
    "        value = self._evaluate_polynomial(x, coef)\n",
    "        return value\n",
    "        \n",
    "        \n",
    "    def _evaluate_polynomial(self, x, coef):\n",
    "        value = 0\n",
    "        for i, c in enumerate(coef):\n",
    "            value = value + c * x**i\n",
    "        return value\n",
    "        \n",
    "        \n",
    "    def _get_coefs(self, x):\n",
    "        \"\"\"\n",
    "        Return coefs at x\n",
    "        \"\"\"\n",
    "        for i in range(self.breakpoints.size):\n",
    "            if (x >= self.breakpoints[i]) and (x < self.breakpoints[i+1]):\n",
    "                return self.coeffs[i,:]\n",
    "        \n",
    "        return None\n",
    "    \n",
    "    \n",
    "    def derivative(self):\n",
    "    \n",
    "        deriv_breakpoints = self.breakpoints\n",
    "        deriv_coeffs = np.zeros((self.coeffs.shape[0], self.coeffs.shape[1]-1))\n",
    "        for seg in range(self.coeffs.shape[0]):\n",
    "            for i in range(self.coeffs.shape[1]):\n",
    "                if i == 0:\n",
    "                    continue # Throw away term for x**0\n",
    "                deriv_coeffs[seg,i-1] = self.coeffs[seg,i]*i\n",
    "                \n",
    "        deriv = PeicewisePolynomial(deriv_coeffs, deriv_breakpoints)\n",
    "        return deriv\n",
    "    \n",
    "    def antiderivative(self):\n",
    "        \n",
    "        antideriv_breakpoints = self.breakpoints\n",
    "        antideriv_coeffs = np.zeros((self.coeffs.shape[0], self.coeffs.shape[1]+1))\n",
    "        for seg in range(self.coeffs.shape[0]):\n",
    "            for i in range(self.coeffs.shape[1]):\n",
    "                antideriv_coeffs[seg,i+1] = self.coeffs[seg,i]/(i+1)\n",
    "                \n",
    "        antideriv = PeicewisePolynomial(antideriv_coeffs, antideriv_breakpoints)\n",
    "        return antideriv\n",
    "    \n",
    "    \n",
    "    def integrate(self, a, b):\n",
    "        \n",
    "        antiderivative = self.antiderivative()\n",
    "        integral = 0\n",
    "        lower_bound = a\n",
    "        for bpi, bp in enumerate(self.breakpoints[:-2]):\n",
    "            if bp > lower_bound:\n",
    "                if self.breakpoints[bpi+1] >= b:\n",
    "                    # Just the one segment left - add it and end\n",
    "                    integral = integral + (antiderivative(b) - antiderivative(lower_bound))\n",
    "                    break\n",
    "                else:\n",
    "                    # segment from lower bound to bp\n",
    "                    # add it, increment lower_bound and contiue\n",
    "                    integral = integral + (antiderivative(bp) - antiderivative(lower_bound))\n",
    "                    lower_bound = bp\n",
    "\n",
    "        return integral"
   ]
  },
  {
   "cell_type": "code",
   "execution_count": 4,
   "metadata": {},
   "outputs": [],
   "source": [
    "class Prem(object):\n",
    "    \n",
    "    def __init__(self, breakpoints, density_params, r_earth=6371):\n",
    "        \n",
    "        self.r_earth = r_earth\n",
    "        \n",
    "        self.density_poly = PeicewisePolynomial(density_params, \n",
    "                                           breakpoints/self.r_earth)\n",
    "        \n",
    "    def density(self, r):\n",
    "        \"\"\"\n",
    "        Evaluate density in kg/m**3 at radii r (in km)\n",
    "        \"\"\"\n",
    "        # Note unit conversion\n",
    "        return self.density_poly(r/self.r_earth) * 1000.0\n",
    "        "
   ]
  },
  {
   "cell_type": "code",
   "execution_count": 5,
   "metadata": {
    "slideshow": {
     "slide_type": "subslide"
    }
   },
   "outputs": [],
   "source": [
    "# This implements the PREM density model using \n",
    "\n",
    "\n",
    "\n",
    "# Polynomial coefficents for PREM density. \n",
    "# Note that the array is transposed to match \n",
    "# what Scipy's PPoly needs.\n",
    "density_params = np.array([[13.0885,  0.0000, -8.8381,  0.0000],\n",
    "                           [12.5815, -1.2638, -3.6426, -5.5281],\n",
    "                           [7.9565, -6.4761,  5.5283, -3.0807],\n",
    "                           [7.9565, -6.4761,  5.5283, -3.0807],\n",
    "                           [7.9565, -6.4761,  5.5283, -3.0807],\n",
    "                           [5.3197, -1.4836,  0.0000,  0.0000],\n",
    "                           [11.2494, -8.0298,  0.0000,  0.0000],\n",
    "                           [7.1089, -3.8045,  0.0000,  0.0000],\n",
    "                           [2.6910,  0.6924,  0.0000,  0.0000],\n",
    "                           [2.6910,  0.6924,  0.0000,  0.0000],\n",
    "                           [2.9000,  0.0000,  0.0000,  0.0000],\n",
    "                           [2.6000,  0.0000,  0.0000,  0.0000],\n",
    "                           [1.0200,  0.0000,  0.0000,  0.0000]])\n",
    "\n",
    "# All 14 discontiuities in PREM in km.\n",
    "breakpoints = np.array([0.0, 1221.5, 3480.0, 3630.0, 5600.0, 5701.0, 5771.0,\n",
    "                        5971.0, 6151.0, 6291.0, 6346.6, 6356.0, 6368.0, 6371.0])\n",
    "\n",
    "r_earth = 6371\n",
    "\n",
    "prem = Prem(breakpoints, density_params, r_earth=r_earth)"
   ]
  },
  {
   "cell_type": "code",
   "execution_count": 6,
   "metadata": {},
   "outputs": [
    {
     "data": {
      "image/png": "[encoded data removed]",
      "text/plain": [
       "<Figure size 432x288 with 1 Axes>"
      ]
     },
     "metadata": {
      "needs_background": "light"
     },
     "output_type": "display_data"
    }
   ],
   "source": [
    "\n",
    "fig, ax = plt.subplots()\n",
    "\n",
    "rs = np.arange(0, 6371, 10)\n",
    "ax.plot(rs, prem.density(rs))\n",
    "\n",
    "plt.show()"
   ]
  },
  {
   "cell_type": "code",
   "execution_count": 7,
   "metadata": {},
   "outputs": [],
   "source": [
    "prem_density_antideriv = prem.density_poly.antiderivative()\n"
   ]
  },
  {
   "cell_type": "code",
   "execution_count": 8,
   "metadata": {},
   "outputs": [
    {
     "data": {
      "image/png": "[encoded data removed]",
      "text/plain": [
       "<Figure size 432x288 with 1 Axes>"
      ]
     },
     "metadata": {
      "needs_background": "light"
     },
     "output_type": "display_data"
    }
   ],
   "source": [
    "fig, ax = plt.subplots()\n",
    "\n",
    "rs = np.arange(0, 1, 0.001)\n",
    "ax.plot(rs, prem_density_antideriv(rs))\n",
    "\n",
    "plt.show()\n",
    "\n"
   ]
  },
  {
   "cell_type": "code",
   "execution_count": null,
   "metadata": {},
   "outputs": [],
   "source": []
  },
  {
   "cell_type": "code",
   "execution_count": 9,
   "metadata": {},
   "outputs": [],
   "source": [
    "prem_density_deriv = prem.density_poly.derivative()\n"
   ]
  },
  {
   "cell_type": "code",
   "execution_count": 10,
   "metadata": {},
   "outputs": [
    {
     "data": {
      "image/png": "[encoded data removed]",
      "text/plain": [
       "<Figure size 432x288 with 1 Axes>"
      ]
     },
     "metadata": {
      "needs_background": "light"
     },
     "output_type": "display_data"
    }
   ],
   "source": [
    "fig, ax = plt.subplots()\n",
    "\n",
    "rs = np.arange(0, 1, 0.001)\n",
    "ax.plot(rs, prem_density_deriv(rs))\n",
    "\n",
    "plt.show()"
   ]
  },
  {
   "cell_type": "code",
   "execution_count": null,
   "metadata": {},
   "outputs": [],
   "source": []
  }
 ],
 "metadata": {
  "celltoolbar": "Slideshow",
  "kernelspec": {
   "display_name": "Python 3",
   "language": "python",
   "name": "python3"
  },
  "language_info": {
   "codemirror_mode": {
    "name": "ipython",
    "version": 3
   },
   "file_extension": ".py",
   "mimetype": "text/x-python",
   "name": "python",
   "nbconvert_exporter": "python",
   "pygments_lexer": "ipython3",
   "version": "3.7.3"
  }
 },
 "nbformat": 4,
 "nbformat_minor": 2
}
