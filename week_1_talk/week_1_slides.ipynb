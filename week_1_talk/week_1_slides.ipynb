{
 "cells": [
  {
   "cell_type": "markdown",
   "metadata": {
    "slideshow": {
     "slide_type": "notes"
    }
   },
   "source": [
    "# Slides for week 1 of PREM 4 DERG\n",
    "\n",
    "This is a set of slides and code for week 1 of the PREM for DERG sessions.\n",
    "It is a slide show to introduce PREM, to get people thinking, and to have some\n",
    "code to play with."
   ]
  },
  {
   "cell_type": "code",
   "execution_count": 1,
   "metadata": {
    "slideshow": {
     "slide_type": "notes"
    }
   },
   "outputs": [],
   "source": [
    "import numpy as np\n",
    "import matplotlib.pyplot as plt\n",
    "\n",
    "%matplotlib inline "
   ]
  },
  {
   "cell_type": "markdown",
   "metadata": {
    "slideshow": {
     "slide_type": "slide"
    }
   },
   "source": [
    "# have you cited PREM?"
   ]
  },
  {
   "cell_type": "markdown",
   "metadata": {
    "slideshow": {
     "slide_type": "slide"
    }
   },
   "source": [
    "# What is PREM"
   ]
  },
  {
   "cell_type": "markdown",
   "metadata": {},
   "source": [
    "$$ M = 4\\pi \\int_0^{R_{e}} \\rho(r) r^2 \\,\\mathrm{d}r.$$"
   ]
  },
  {
   "cell_type": "code",
   "execution_count": 2,
   "metadata": {
    "slideshow": {
     "slide_type": "slide"
    }
   },
   "outputs": [],
   "source": [
    "# Show PREM plots"
   ]
  },
  {
   "cell_type": "code",
   "execution_count": 3,
   "metadata": {},
   "outputs": [],
   "source": [
    "class PeicewisePolynomial(object):\n",
    "    \"\"\"\n",
    "    Peicewise Polynomials a different way\n",
    "    \n",
    "    The SciPy PPoly class defines a function from\n",
    "    polynomials with coefficents c and breakpoints x\n",
    "    evaluated at a point xp thus:\n",
    "    \n",
    "       S = sum(c[m, i] * (xp - x[i])**(k-m) for m in range(k+1))\n",
    "    \n",
    "    This is not helpful for PREM, so we create a new class defining\n",
    "    the function:\n",
    "    \n",
    "       S = sum(c[m, i] * (xp - x[i])**(k-m) for m in range(k+1))\n",
    "      \n",
    "    Note some important differences between this and PPoly!\n",
    "    \"\"\"\n",
    "    \n",
    "    def __init__(self, c, x):\n",
    "        self.breakpoints = x \n",
    "        self.coeffs = c\n",
    "        \n",
    "        \n",
    "    def __call__(self, xp, break_down=False):\n",
    "        if np.ndim(xp) == 0:\n",
    "            value = self._evaluate_at_point(xp, break_down)\n",
    "        else:\n",
    "            value = np.zeros_like(xp)\n",
    "            for i in range(xp.size):\n",
    "                value[i] = self._evaluate_at_point(xp[i], break_down)\n",
    "        return value        \n",
    "        \n",
    "        \n",
    "    def _evaluate_at_point(self, x, break_down=False):\n",
    "        \"\"\"\n",
    "        Evaluate peicewise polynomal at point x\n",
    "        \"\"\"\n",
    "        coef = self._get_coefs(x, break_down)\n",
    "        value = self._evaluate_polynomial(x, coef)\n",
    "        return value\n",
    "        \n",
    "        \n",
    "    def _evaluate_polynomial(self, x, coef):\n",
    "        value = 0\n",
    "        for i, c in enumerate(coef):\n",
    "            value = value + c * x**i\n",
    "        return value\n",
    "        \n",
    "        \n",
    "    def _get_coefs(self, x, break_down=False):\n",
    "        \"\"\"\n",
    "        Return coefs at x\n",
    "        \n",
    "        If x falls on a breakpoint, we take the coeffecents from \n",
    "        'above' the breakpoint. Unless break_down is True, in which\n",
    "        case we take the coeffecents from 'below'\n",
    "        \"\"\"\n",
    "        if x == self.breakpoints[-1]:\n",
    "            # We use the last coefficents for the outside point\n",
    "            return self.coeffs[-1,:]\n",
    "        if break_down:\n",
    "            for i in range(self.breakpoints.size):\n",
    "                if (x > self.breakpoints[i]) and (x <= self.breakpoints[i+1]):\n",
    "                    return self.coeffs[i,:]\n",
    "        else:\n",
    "            for i in range(self.breakpoints.size):\n",
    "                if (x >= self.breakpoints[i]) and (x < self.breakpoints[i+1]):\n",
    "                    return self.coeffs[i,:]\n",
    "        \n",
    "        return None\n",
    "    \n",
    "    \n",
    "    def derivative(self):\n",
    "    \n",
    "        deriv_breakpoints = self.breakpoints\n",
    "        deriv_coeffs = np.zeros((self.coeffs.shape[0], self.coeffs.shape[1]-1))\n",
    "        for seg in range(self.coeffs.shape[0]):\n",
    "            for i in range(self.coeffs.shape[1]):\n",
    "                if i == 0:\n",
    "                    continue # Throw away term for x**0\n",
    "                deriv_coeffs[seg,i-1] = self.coeffs[seg,i]*i\n",
    "                \n",
    "        deriv = PeicewisePolynomial(deriv_coeffs, deriv_breakpoints)\n",
    "        return deriv\n",
    "    \n",
    "    def antiderivative(self):\n",
    "        \n",
    "        antideriv_breakpoints = self.breakpoints\n",
    "        antideriv_coeffs = np.zeros((self.coeffs.shape[0], self.coeffs.shape[1]+1))\n",
    "        for seg in range(self.coeffs.shape[0]):\n",
    "            for i in range(self.coeffs.shape[1]):\n",
    "                antideriv_coeffs[seg,i+1] = self.coeffs[seg,i]/(i+1)\n",
    "                \n",
    "        antideriv = PeicewisePolynomial(antideriv_coeffs, antideriv_breakpoints)\n",
    "        return antideriv\n",
    "    \n",
    "    \n",
    "    def integrate(self, a, b):\n",
    "        \n",
    "        antiderivative = self.antiderivative()\n",
    "        integral = 0\n",
    "        lower_bound = a\n",
    "        for bpi, bp in enumerate(self.breakpoints):\n",
    "            if bp > lower_bound:\n",
    "                if self.breakpoints[bpi] >= b:\n",
    "                    # Just the one segment left - add it and end\n",
    "                    integral = integral + (antiderivative(b, break_down=True) - antiderivative(lower_bound))\n",
    "                    #print(integral, lower_bound, b, 'done')\n",
    "                    break\n",
    "                else:\n",
    "                    # segment from lower bound to bp\n",
    "                    # add it, increment lower_bound and contiue\n",
    "                    integral = integral + (antiderivative(bp, break_down=True) - antiderivative(lower_bound))\n",
    "                    #print(integral, lower_bound, bp)\n",
    "                    lower_bound = bp\n",
    "\n",
    "        return integral\n",
    "    \n",
    "    \n",
    "    def mult(self, other):\n",
    "        assert self.coeffs.shape[0] == other.coeffs.shape[0], 'different number of breakpoints'\n",
    "        mult_breakpoints = self.breakpoints\n",
    "        mult_coefs = np.zeros((self.coeffs.shape[0], self.coeffs.shape[1]+other.coeffs.shape[1]))\n",
    "        for seg in range(self.coeffs.shape[0]):\n",
    "            for i in range(self.coeffs.shape[1]):\n",
    "                for j in range(other.coeffs.shape[1]):\n",
    "                    mult_coefs[seg,i+j] = mult_coefs[seg,i+j] + self.coeffs[seg,i]*other.coeffs[seg,j]\n",
    "                    \n",
    "        mult_poly = PeicewisePolynomial(mult_coefs, mult_breakpoints)\n",
    "        return mult_poly"
   ]
  },
  {
   "cell_type": "code",
   "execution_count": 4,
   "metadata": {},
   "outputs": [],
   "source": [
    "class Prem(object):\n",
    "    \n",
    "    def __init__(self, breakpoints, density_params, r_earth=6371):\n",
    "        \n",
    "        self.r_earth = r_earth\n",
    "        \n",
    "        self.density_poly = PeicewisePolynomial(density_params, \n",
    "                                           breakpoints)\n",
    "        \n",
    "    def density(self, r):\n",
    "        \"\"\"\n",
    "        Evaluate density in kg/m**3 at radii r (in km)\n",
    "        \"\"\"\n",
    "        return self.density_poly(r)\n"
   ]
  },
  {
   "cell_type": "code",
   "execution_count": 5,
   "metadata": {
    "slideshow": {
     "slide_type": "subslide"
    }
   },
   "outputs": [],
   "source": [
    "# This implements the PREM density model using \n",
    "\n",
    "\n",
    "\n",
    "# Polynomial coefficents for PREM density. \n",
    "# Note that the array is transposed to match \n",
    "# what Scipy's PPoly needs.\n",
    "\n",
    "r_earth = 6371 # km\n",
    "\n",
    "density_params = np.array([[13.0885,  0.0000, -8.8381,  0.0000],\n",
    "                           [12.5815, -1.2638, -3.6426, -5.5281],\n",
    "                           [7.9565, -6.4761,  5.5283, -3.0807],\n",
    "                           [7.9565, -6.4761,  5.5283, -3.0807],\n",
    "                           [7.9565, -6.4761,  5.5283, -3.0807],\n",
    "                           [5.3197, -1.4836,  0.0000,  0.0000],\n",
    "                           [11.2494, -8.0298,  0.0000,  0.0000],\n",
    "                           [7.1089, -3.8045,  0.00002,  0.0000],\n",
    "                           [2.6910,  0.6924,  0.0000,  0.0000],\n",
    "                           [2.6910,  0.6924,  0.0000,  0.0000],\n",
    "                           [2.9000,  0.0000,  0.0000,  0.0000],\n",
    "                           [2.6000,  0.0000,  0.0000,  0.0000],\n",
    "                           [1.0200,  0.0000,  0.0000,  0.0000]])\n",
    "\n",
    "\n",
    "# Turn range of polynomials from 0 - 1 to 0 - r_earth (makes mass easer) \n",
    "density_params[:,0] = density_params[:,0] * 1000\n",
    "density_params[:,1] = (density_params[:,1] * 1000) / r_earth \n",
    "density_params[:,2] = (density_params[:,2] * 1000) / (r_earth**2)\n",
    "density_params[:,3] = (density_params[:,3] * 1000) / (r_earth**3)\n",
    "\n",
    "\n",
    "# All 14 discontiuities in PREM in km.\n",
    "breakpoints = np.array([0.0, 1221.5, 3480.0, 3630.0, 5600.0, 5701.0, 5771.0,\n",
    "                        5971.0, 6151.0, 6291.0, 6346.6, 6356.0, 6368.0, 6371.0])\n",
    "\n",
    "\n",
    "\n",
    "prem = Prem(breakpoints, density_params, r_earth=r_earth)"
   ]
  },
  {
   "cell_type": "code",
   "execution_count": 6,
   "metadata": {},
   "outputs": [
    {
     "data": {
      "image/png": "[encoded data removed]",
      "text/plain": [
       "<Figure size 432x288 with 1 Axes>"
      ]
     },
     "metadata": {
      "needs_background": "light"
     },
     "output_type": "display_data"
    }
   ],
   "source": [
    "\n",
    "fig, ax = plt.subplots()\n",
    "\n",
    "rs = np.arange(0, 6371, 0.5)\n",
    "ax.plot(rs, prem.density(rs))\n",
    "\n",
    "plt.show()"
   ]
  },
  {
   "cell_type": "code",
   "execution_count": 7,
   "metadata": {},
   "outputs": [
    {
     "data": {
      "text/plain": [
       "array([ 0.        , -0.1983676 , -1.01649663, -1.01649663, -1.01649663,\n",
       "       -0.23286768, -1.26036729, -0.597159  ,  0.10867996,  0.10867996,\n",
       "        0.        ,  0.        ,  0.        ])"
      ]
     },
     "execution_count": 7,
     "metadata": {},
     "output_type": "execute_result"
    }
   ],
   "source": [
    "density_params[:,1]"
   ]
  },
  {
   "cell_type": "code",
   "execution_count": 8,
   "metadata": {},
   "outputs": [],
   "source": [
    "prem_density_antideriv = prem.density_poly.antiderivative()\n"
   ]
  },
  {
   "cell_type": "code",
   "execution_count": 9,
   "metadata": {},
   "outputs": [
    {
     "data": {
      "image/png": "[encoded data removed]",
      "text/plain": [
       "<Figure size 432x288 with 1 Axes>"
      ]
     },
     "metadata": {
      "needs_background": "light"
     },
     "output_type": "display_data"
    }
   ],
   "source": [
    "fig, ax = plt.subplots()\n",
    "\n",
    "rs = np.arange(0, 1, 0.001)\n",
    "ax.plot(rs, prem_density_antideriv(rs))\n",
    "\n",
    "plt.show()\n",
    "\n"
   ]
  },
  {
   "cell_type": "code",
   "execution_count": null,
   "metadata": {},
   "outputs": [],
   "source": []
  },
  {
   "cell_type": "code",
   "execution_count": 10,
   "metadata": {},
   "outputs": [],
   "source": [
    "prem_density_deriv = prem.density_poly.derivative()\n"
   ]
  },
  {
   "cell_type": "code",
   "execution_count": 11,
   "metadata": {},
   "outputs": [
    {
     "data": {
      "image/png": "[encoded data removed]",
      "text/plain": [
       "<Figure size 432x288 with 1 Axes>"
      ]
     },
     "metadata": {
      "needs_background": "light"
     },
     "output_type": "display_data"
    }
   ],
   "source": [
    "fig, ax = plt.subplots()\n",
    "\n",
    "rs = np.arange(0, 1, 0.001)\n",
    "ax.plot(rs, prem_density_deriv(rs))\n",
    "\n",
    "plt.show()"
   ]
  },
  {
   "cell_type": "code",
   "execution_count": 12,
   "metadata": {},
   "outputs": [],
   "source": [
    "r2_params = np.array([[0,  0.0000, 1000.0**3],\n",
    "                      [0,  0.0000, 1000.0**3],\n",
    "                      [0,  0.0000, 1000.0**3],\n",
    "                      [0,  0.0000, 1000.0**3],\n",
    "                      [0,  0.0000, 1000.0**3],\n",
    "                      [0,  0.0000, 1000.0**3],\n",
    "                      [0,  0.0000, 1000.0**3],\n",
    "                      [0,  0.0000, 1000.0**3],\n",
    "                      [0,  0.0000, 1000.0**3],\n",
    "                      [0,  0.0000, 1000.0**3],\n",
    "                      [0,  0.0000, 1000.0**3],\n",
    "                      [0,  0.0000, 1000.0**3],\n",
    "                      [0,  0.0000, 1000.0**3]])\n",
    "\n",
    "# All 14 discontiuities in PREM in km.\n",
    "r2_breakpoints = np.array([0.0, 1221.5, 3480.0, 3630.0, 5600.0, 5701.0, 5771.0,\n",
    "                        5971.0, 6151.0, 6291.0, 6346.6, 6356.0, 6368.0, 6371.0])\n",
    "r2_poly = PeicewisePolynomial(r2_params, r2_breakpoints)\n",
    "mass_poly = prem.density_poly.mult(r2_poly) "
   ]
  },
  {
   "cell_type": "code",
   "execution_count": 13,
   "metadata": {},
   "outputs": [
    {
     "data": {
      "image/png": "[encoded data removed]",
      "text/plain": [
       "<Figure size 432x288 with 1 Axes>"
      ]
     },
     "metadata": {
      "needs_background": "light"
     },
     "output_type": "display_data"
    }
   ],
   "source": [
    "fig, ax = plt.subplots()\n",
    "\n",
    "rs = np.arange(0, 6371, 0.5)\n",
    "ax.plot(rs, mass_poly(rs))\n",
    "\n",
    "plt.show()"
   ]
  },
  {
   "cell_type": "code",
   "execution_count": 25,
   "metadata": {},
   "outputs": [
    {
     "name": "stdout",
     "output_type": "stream",
     "text": [
      "Mass of earth is:  5.973178452676286e+24 kg\n"
     ]
    }
   ],
   "source": [
    "mass = mass_poly.integrate(0.0,6371.0)*4.0*np.pi\n",
    "print(\"Mass of earth is: \", mass, \"kg\")"
   ]
  },
  {
   "cell_type": "code",
   "execution_count": 15,
   "metadata": {},
   "outputs": [
    {
     "data": {
      "text/plain": [
       "array([   0. , 1221.5, 3480. , 3630. , 5600. , 5701. , 5771. , 5971. ,\n",
       "       6151. , 6291. , 6346.6, 6356. , 6368. , 6371. ])"
      ]
     },
     "execution_count": 15,
     "metadata": {},
     "output_type": "execute_result"
    }
   ],
   "source": [
    "mass_poly.breakpoints"
   ]
  },
  {
   "cell_type": "code",
   "execution_count": 16,
   "metadata": {},
   "outputs": [
    {
     "data": {
      "text/plain": [
       "4.140143382e+19"
      ]
     },
     "execution_count": 16,
     "metadata": {},
     "output_type": "execute_result"
    }
   ],
   "source": [
    "mass_poly(6371.0)"
   ]
  },
  {
   "cell_type": "markdown",
   "metadata": {},
   "source": [
    "Moment of inertia:\n",
    "\n",
    "$$I = \\frac{2}{3} 4\\pi \\int_0^{R_{e}} \\rho(r) r^4 \\,\\mathrm{d}r.$$"
   ]
  },
  {
   "cell_type": "code",
   "execution_count": 22,
   "metadata": {},
   "outputs": [],
   "source": [
    "r4_params = np.array([[0.0,  0.0, 0.0, 0.0, 1000.0**5],\n",
    "                      [0.0,  0.0, 0.0, 0.0, 1000.0**5],\n",
    "                      [0.0,  0.0, 0.0, 0.0, 1000.0**5],\n",
    "                      [0.0,  0.0, 0.0, 0.0, 1000.0**5],\n",
    "                      [0.0,  0.0, 0.0, 0.0, 1000.0**5],\n",
    "                      [0.0,  0.0, 0.0, 0.0, 1000.0**5],\n",
    "                      [0.0,  0.0, 0.0, 0.0, 1000.0**5],\n",
    "                      [0.0,  0.0, 0.0, 0.0, 1000.0**5],\n",
    "                      [0.0,  0.0, 0.0, 0.0, 1000.0**5],\n",
    "                      [0.0,  0.0, 0.0, 0.0, 1000.0**5],\n",
    "                      [0.0,  0.0, 0.0, 0.0, 1000.0**5],\n",
    "                      [0.0,  0.0, 0.0, 0.0, 1000.0**5],\n",
    "                      [0.0,  0.0, 0.0, 0.0, 1000.0**5]])\n",
    "\n",
    "# All 14 discontiuities in PREM in km.\n",
    "r4_breakpoints = np.array([0.0, 1221.5, 3480.0, 3630.0, 5600.0, 5701.0, 5771.0,\n",
    "                        5971.0, 6151.0, 6291.0, 6346.6, 6356.0, 6368.0, 6371.0])\n",
    "r4_poly = PeicewisePolynomial(r4_params, r4_breakpoints)\n",
    "moi_poly = prem.density_poly.mult(r4_poly) "
   ]
  },
  {
   "cell_type": "code",
   "execution_count": 28,
   "metadata": {},
   "outputs": [
    {
     "name": "stdout",
     "output_type": "stream",
     "text": [
      "Earth's moment of inertia is:  8.020207731256638e+37 kg m^2\n",
      "I/MR**2: 0.3307995553696296\n"
     ]
    }
   ],
   "source": [
    "moi = moi_poly.integrate(0.0,6371.0)*4.0*(2/3)*np.pi\n",
    "print(\"Earth's moment of inertia is: \", moi, \"kg m^2\")\n",
    "print(\"I/MR**2:\", moi / (mass*6371000**2))"
   ]
  },
  {
   "cell_type": "code",
   "execution_count": null,
   "metadata": {},
   "outputs": [],
   "source": []
  }
 ],
 "metadata": {
  "celltoolbar": "Slideshow",
  "kernelspec": {
   "display_name": "Python 3",
   "language": "python",
   "name": "python3"
  },
  "language_info": {
   "codemirror_mode": {
    "name": "ipython",
    "version": 3
   },
   "file_extension": ".py",
   "mimetype": "text/x-python",
   "name": "python",
   "nbconvert_exporter": "python",
   "pygments_lexer": "ipython3",
   "version": "3.7.3"
  }
 },
 "nbformat": 4,
 "nbformat_minor": 2
}
