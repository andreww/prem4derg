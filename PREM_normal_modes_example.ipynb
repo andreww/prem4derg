{
 "cells": [
  {
   "cell_type": "code",
   "execution_count": 1,
   "metadata": {},
   "outputs": [],
   "source": [
    "import os\n",
    "import subprocess # We are using python 3.5 features! \n",
    "\n",
    "import numpy as np\n",
    "import matplotlib.pyplot as plt\n",
    "\n",
    "%matplotlib inline "
   ]
  },
  {
   "cell_type": "code",
   "execution_count": 2,
   "metadata": {},
   "outputs": [],
   "source": [
    "import earth_model"
   ]
  },
  {
   "cell_type": "markdown",
   "metadata": {},
   "source": [
    "## Some Mineos wrapping stuff\n",
    "\n",
    "Nothing much to see here - probably belongs in a module"
   ]
  },
  {
   "cell_type": "code",
   "execution_count": 3,
   "metadata": {},
   "outputs": [],
   "source": [
    "MINEOS_BIN_FILE = '../cig/bin/minos_bran' # set for your setup!\n",
    "\n",
    "def run_mineos(earth_model, model_name, mode_type, \n",
    "               lmin, lmax, wmin, wmax, nmin, nmax,\n",
    "               eps=1E-10, wgrav=10, model_spacing=25):\n",
    "    \"\"\"\n",
    "    Run Mineos\n",
    "    \n",
    "    Given a tabulated Earth model, set up a Mineos model file\n",
    "    and a Mineos parameter file, and run the minos_bran code\n",
    "    to compute mode frequencies, eigenvectors etc.\n",
    "    \n",
    "    Arguments:\n",
    "    earth_model: an Earth model (e.g. a Prem instance)\n",
    "    model_name: a string describing the name of the model\n",
    "    mode_type: 'radial', 'toroidal', 'spheroidal' or 'inner_core_toroidal'\n",
    "    lmin: minimum angular order\n",
    "    lmax: maximum angular order\n",
    "    wmin: minimum frequency (mHz)\n",
    "    wmax: maximum frequency (mHz)\n",
    "    nmin: minimum dispersion branch number\n",
    "    nmax: maximim dispersion branch number\n",
    "    eps: controls the accuracy of the Runge-Kutta integration scheme\n",
    "    wgrav: the frequency in millihertz (mHz) above which gravitational\n",
    "           terms are neglected\n",
    "    model_spacing: maximum spacing (in km) used to represent the model\n",
    "    \"\"\"\n",
    "    if mode_type == 'radial':\n",
    "        code_letter = 'S' # this does l=0 spheroidal modes\n",
    "        jcom = 1\n",
    "    elif mode_type == 'toroidal':\n",
    "        code_letter = 'T'\n",
    "        jcom = 2\n",
    "    elif mode_type == 'spheroidal':\n",
    "        code_letter = 'S'\n",
    "        jcom = 3\n",
    "    elif mode_type == 'inner_core_toroidal':\n",
    "        code_letter = 'T' # should I call this something else?\n",
    "        jcom = 4\n",
    "    else:\n",
    "        raise ValueError(\"invalide mode type\")\n",
    "    \n",
    "    name = 'mineos_run'\n",
    "    param_file_name = name + '_param.txt'\n",
    "    model_file_name = name + '_model.txt'\n",
    "    text_output_file_name = name + '_text_out' + code_letter + '.txt'\n",
    "    unformatted_output = name + 'eig_out' + code_letter + '.dat'\n",
    "    \n",
    "    # Tabulate and write out model\n",
    "    table = prem.tabulate_model_outwards(model_spacing)\n",
    "    write_mineos_model_file(table, model_file_name, model_name)\n",
    "    \n",
    "    # Run Mineos, piping in commands\n",
    "    mineos = subprocess.Popen([MINEOS_BIN_FILE],\n",
    "                              stdin=subprocess.PIPE,\n",
    "                              universal_newlines=True,\n",
    "                              bufsize=0)\n",
    "    # Write param file\n",
    "    mineos.stdin.write(model_file_name + \"\\n\")\n",
    "    mineos.stdin.write(text_output_file_name + \"\\n\")\n",
    "    mineos.stdin.write(unformatted_output + \"\\n\")\n",
    "    mineos.stdin.write(\"{} {}\\n\".format(eps, wgrav))\n",
    "    mineos.stdin.write(\"{}\\n\".format(jcom))\n",
    "    mineos.stdin.write(\"{} {} {} {} {} {}\\n\".format(lmin, lmax, \n",
    "                                                    wmin, wmax, \n",
    "                                                    nmin, nmax))\n",
    "    mineos.stdin.close()\n",
    "    mineos.wait()\n",
    "    \n",
    "    modes = read_mineos_mode_file(text_output_file_name)\n",
    "    return modes"
   ]
  },
  {
   "cell_type": "code",
   "execution_count": 4,
   "metadata": {},
   "outputs": [],
   "source": [
    "def write_mineos_model_file(table, mineos_model_filename, mineos_model_name):\n",
    "    \"\"\"\n",
    "    Write out a formatter Mineos model\n",
    "    \"\"\"\n",
    "    f = open(mineos_model_filename, 'w')\n",
    "    f.write(mineos_model_name + \"\\n\")\n",
    "    f.write(\"   0    1.00000  1\\n\") # isotropic tabulated format 1s ref\n",
    "    n = table.shape[0]\n",
    "    nic = np.argwhere(table.vs==0)[0][0] # This is the last inner core index. \n",
    "    noc = np.argwhere(table.vs==0)[-1][0] + 1 # This is the last outer core index (assuming no ocean).\n",
    "    f.write(\"{} {} {}\\n\".format(n, nic, noc))\n",
    "    for r, rho, vp, vs, qk, qm in zip(table.radius, table.density, table.vp, table.vs, \n",
    "                              table.qkappa, table.qshear):\n",
    "        f.write(\"{:#8.0f} {:#9.2f} {:#9.2f} {:#9.2f} {:#9.1f} {:#9.1f} {:#9.2f} {:#9.2f} {:#9.5f}\\n\".format(\n",
    "                                                                   r*1000.0, rho, \n",
    "                                                                   vp*1000.0, vs*1000.0,\n",
    "                                                                   qk, qm, vp*1000.0, vs*1000.0, 1.0))\n",
    "    f.close()\n",
    "    "
   ]
  },
  {
   "cell_type": "code",
   "execution_count": 5,
   "metadata": {},
   "outputs": [],
   "source": [
    "def read_mineos_mode_file(filename):\n",
    "    \"\"\"\n",
    "    Read output data from a Mineos run\n",
    "    \n",
    "    Returns results in dictionary with mode names as keys\n",
    "    \"\"\"\n",
    "    read_modes = {}\n",
    "    in_modes = False\n",
    "    f = open(filename, 'r')\n",
    "    for line in f:\n",
    "        if not in_modes:\n",
    "            words = line.split()\n",
    "            if not words:\n",
    "                # blank line\n",
    "                continue\n",
    "            elif words[0] == 'mode' and words[1] == 'phs':\n",
    "                # One blank line then into the modes\n",
    "                in_modes = True\n",
    "        else:\n",
    "            words = line.split()\n",
    "            if not words:\n",
    "                continue\n",
    "            this_mode = {}\n",
    "            n = words[0]\n",
    "            letter = words[1].upper()\n",
    "            l = words[2]\n",
    "            this_mode['n'] = int(n)\n",
    "            this_mode['type'] = letter\n",
    "            this_mode['l'] = int(l)\n",
    "            this_mode['phs_vel'] = float(words[3])\n",
    "            this_mode['w'] = float(words[4])              \n",
    "            this_mode['t'] = float(words[5])\n",
    "            this_mode['grp_vel'] = float(words[6])\n",
    "            this_mode['q'] = float(words[7])\n",
    "            this_mode['raylquo'] = float(words[8])\n",
    "            read_modes[n+letter+l] = this_mode\n",
    "                \n",
    "    return read_modes"
   ]
  },
  {
   "cell_type": "markdown",
   "metadata": {},
   "source": [
    "## Setup and run a model with Mineos\n",
    "\n",
    "And write in Mineos format"
   ]
  },
  {
   "cell_type": "code",
   "execution_count": 6,
   "metadata": {},
   "outputs": [],
   "source": [
    "prem = earth_model.Prem()"
   ]
  },
  {
   "cell_type": "code",
   "execution_count": 7,
   "metadata": {},
   "outputs": [],
   "source": [
    "s_modes = run_mineos(prem, 'a model name', mode_type='spheroidal', lmin=1, lmax=250, \n",
    "               wmin=0.0, wmax=166.0, nmin=0, nmax=10)"
   ]
  },
  {
   "cell_type": "code",
   "execution_count": 8,
   "metadata": {},
   "outputs": [
    {
     "name": "stdout",
     "output_type": "stream",
     "text": [
      "Mode 0S2 has period 3230.644 and is 3233.115 secs in PREM Table V\n"
     ]
    }
   ],
   "source": [
    "print(\"Mode 0S2 has period\", s_modes['0S2']['t'], \"and is 3233.115 secs in PREM Table V\")"
   ]
  },
  {
   "cell_type": "code",
   "execution_count": 9,
   "metadata": {},
   "outputs": [],
   "source": [
    "t_modes = run_mineos(prem, 'a model name', mode_type='toroidal', lmin=1, lmax=250, \n",
    "               wmin=0.0, wmax=166.0, nmin=0, nmax=10)"
   ]
  },
  {
   "cell_type": "code",
   "execution_count": 10,
   "metadata": {},
   "outputs": [
    {
     "name": "stdout",
     "output_type": "stream",
     "text": [
      "Mode 0T2 has period 2631.841 and is 2636.38 secs in PREM Table V\n"
     ]
    }
   ],
   "source": [
    "print(\"Mode 0T2 has period\", t_modes['0T2']['t'], \"and is 2636.38 secs in PREM Table V\")\n"
   ]
  },
  {
   "cell_type": "code",
   "execution_count": 11,
   "metadata": {},
   "outputs": [
    {
     "data": {
      "image/png": "[encoded data removed]",
      "text/plain": [
       "<Figure size 720x720 with 1 Axes>"
      ]
     },
     "metadata": {
      "needs_background": "light"
     },
     "output_type": "display_data"
    }
   ],
   "source": [
    "sls = []\n",
    "sfs = []\n",
    "for mode_name in s_modes:\n",
    "    l = int(s_modes[mode_name]['l'])\n",
    "    if l < 50:\n",
    "        sls.append(l)\n",
    "        sfs.append((1.0/s_modes[mode_name]['t'])*1E3)\n",
    "    \n",
    "tls = []\n",
    "tfs = []\n",
    "for mode_name in t_modes:\n",
    "    l = int(t_modes[mode_name]['l'])\n",
    "    if l < 50:\n",
    "        tls.append(l)\n",
    "        tfs.append((1.0/t_modes[mode_name]['t'])*1E3)    \n",
    "\n",
    "fig, ax = plt.subplots(figsize=(10,10))\n",
    "\n",
    "ax.plot(sls, sfs, 'r.', label='spheroidal modes')\n",
    "ax.plot(tls, tfs, 'b.', label='toroidal modes')\n",
    "\n",
    "ax.set_xlabel('Angular order ($l$)')\n",
    "ax.set_ylabel('Frequency (mHz)')\n",
    "ax.legend()\n",
    "\n",
    "plt.show()"
   ]
  },
  {
   "cell_type": "code",
   "execution_count": null,
   "metadata": {},
   "outputs": [],
   "source": []
  }
 ],
 "metadata": {
  "kernelspec": {
   "display_name": "Python 3",
   "language": "python",
   "name": "python3"
  },
  "language_info": {
   "codemirror_mode": {
    "name": "ipython",
    "version": 3
   },
   "file_extension": ".py",
   "mimetype": "text/x-python",
   "name": "python",
   "nbconvert_exporter": "python",
   "pygments_lexer": "ipython3",
   "version": "3.7.3"
  }
 },
 "nbformat": 4,
 "nbformat_minor": 2
}
