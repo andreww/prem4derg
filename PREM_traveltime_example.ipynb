{
 "cells": [
  {
   "cell_type": "code",
   "execution_count": 1,
   "metadata": {},
   "outputs": [],
   "source": [
    "import numpy as np\n",
    "import matplotlib.pyplot as plt\n",
    "\n",
    "%matplotlib inline "
   ]
  },
  {
   "cell_type": "code",
   "execution_count": 2,
   "metadata": {},
   "outputs": [
    {
     "ename": "TypeError",
     "evalue": "list indices must be integers or slices, not tuple",
     "output_type": "error",
     "traceback": [
      "\u001b[0;31m---------------------------------------------------------------------------\u001b[0m",
      "\u001b[0;31mTypeError\u001b[0m                                 Traceback (most recent call last)",
      "\u001b[0;32m<ipython-input-2-6f504d0266c6>\u001b[0m in \u001b[0;36m<module>\u001b[0;34m\u001b[0m\n\u001b[0;32m----> 1\u001b[0;31m \u001b[0;32mimport\u001b[0m \u001b[0mearth_model\u001b[0m\u001b[0;34m\u001b[0m\u001b[0;34m\u001b[0m\u001b[0m\n\u001b[0m",
      "\u001b[0;32m~/Code/prem4derg/earth_model.py\u001b[0m in \u001b[0;36m<module>\u001b[0;34m\u001b[0m\n\u001b[1;32m     45\u001b[0m                       \u001b[0;34m[\u001b[0m \u001b[0;36m4.1875\u001b[0m\u001b[0;34m,\u001b[0m   \u001b[0;36m3.9382\u001b[0m\u001b[0;34m,\u001b[0m  \u001b[0;36m0.0000\u001b[0m\u001b[0;34m,\u001b[0m   \u001b[0;36m0.0000\u001b[0m\u001b[0;34m]\u001b[0m\u001b[0;34m,\u001b[0m\u001b[0;34m\u001b[0m\u001b[0;34m\u001b[0m\u001b[0m\n\u001b[1;32m     46\u001b[0m                       \u001b[0;34m[\u001b[0m \u001b[0;36m6.8000\u001b[0m\u001b[0;34m,\u001b[0m   \u001b[0;36m0.0000\u001b[0m\u001b[0;34m,\u001b[0m  \u001b[0;36m0.0000\u001b[0m\u001b[0;34m,\u001b[0m   \u001b[0;36m0.0000\u001b[0m\u001b[0;34m]\u001b[0m\u001b[0;34m\u001b[0m\u001b[0;34m\u001b[0m\u001b[0m\n\u001b[0;32m---> 47\u001b[0;31m                       \u001b[0;34m[\u001b[0m \u001b[0;36m5.8000\u001b[0m\u001b[0;34m,\u001b[0m   \u001b[0;36m0.0000\u001b[0m\u001b[0;34m,\u001b[0m  \u001b[0;36m0.0000\u001b[0m\u001b[0;34m,\u001b[0m   \u001b[0;36m0.0000\u001b[0m\u001b[0;34m]\u001b[0m\u001b[0;34m\u001b[0m\u001b[0;34m\u001b[0m\u001b[0m\n\u001b[0m\u001b[1;32m     48\u001b[0m                       [ 1.4500,   0.0000,  0.0000,   0.0000]])\n\u001b[1;32m     49\u001b[0m _vs_params = np.array([[ 3.6678,   0.0000,  -4.4475,  0.0000],\n",
      "\u001b[0;31mTypeError\u001b[0m: list indices must be integers or slices, not tuple"
     ]
    }
   ],
   "source": [
    "import earth_model"
   ]
  },
  {
   "cell_type": "markdown",
   "metadata": {},
   "source": [
    "## PREM and sesimic wave velocities\n",
    "\n",
    "P- and S-wave velocities are parameterised in PREM in a similar way to density. For example\n",
    "$V_P$ can be written:\n",
    "\n",
    "$$\n",
    "V_P(r) = \\left\\{\n",
    "\\begin{array}{ll}\n",
    "      p_{0,0} + p_{0,1}r + p_{0,2}r^2 + p_{0,3}r^3 & r\\leq 1221.5 \\; \\mathrm{km} \\\\\n",
    "      p_{1,0} + p_{1,1}r + p_{1,2}r^2 + p_{1,3}r^3 & 1221.5\\leq r\\leq 3480.0 \\; \\mathrm{km}\\\\\n",
    "      \\vdots & \\vdots \\\\\n",
    "      p_{12,0} + p_{12,1}r + p_{12,2}r^2 + p_{12,3}r^3 & 6368.0\\leq r\\leq 6371.0 \\; \\mathrm{km} \\\\\n",
    "\\end{array} \n",
    "\\right.\n",
    "$$\n",
    "\n",
    "with $V_S$ written in the same way. However, PREM is both anisotropic (in the upper mantle, for\n",
    "$6151.0\\leq r\\leq 6346.6 \\; \\mathrm{km}$) and anelastic (at all depths). We will ignore the anisotropy\n",
    "(although adding that may be an interesting thing to do) but we do need to consider anelasticity.\n",
    "\n",
    "A single value is applied to the bulk, $Q_{\\kappa}$ and shear, $Q_{\\mu}$, quality factor for each layer. This\n",
    "is the inverse of the dissipation (e.g. $q_{\\kappa} = Q^{-1}_{\\kappa}$) and can be used to calculate the\n",
    "seismic velocities at periods other than 1 s (which is the reference period used in PREM). For a period $T$, \n",
    "velocities are given by:\n",
    "\n",
    "$$V_S(r,T) = V_S(r,1)\\left(1-\\frac{\\ln T}{\\pi} q_{\\mu}(r)\\right)$$\n",
    "\n",
    "and \n",
    "\n",
    "$$V_P(r,T) = V_P(r,1)\\left(1-\\frac{\\ln T}{\\pi}\\left[\n",
    "    \\left(1 - E\\right)q_{\\kappa}(r) \n",
    "    + Eq_{\\mu}(r)\\right]\\right)$$\n",
    "    \n",
    "where $E = \\frac{4}{3}\\left(\\frac{V_S(r,1)}{V_P(r,1)}\\right)^2$"
   ]
  },
  {
   "cell_type": "code",
   "execution_count": null,
   "metadata": {},
   "outputs": [],
   "source": [
    "# This implements the PREM density model using \n",
    "\n",
    "r_earth = 6371 # km\n",
    "\n",
    "# Note use of isotropic approxmation from footnote in paper\n",
    "vp_params = np.array([[11.2622,   0.0000, -6.3640,   0.0000],\n",
    "                      [11.0487,  -4.0362,  4.8023, -13.5732],\n",
    "                      [15.3891,  -5.3181,  5.5242,  -2.5514],\n",
    "                      [24.9520, -40.4673, 51.4832, -26.6419],\n",
    "                      [29.2766, -23.6027,  5.5242,  -2.5514],\n",
    "                      [19.0957,  -9.8672,  0.0000,   0.0000],\n",
    "                      [39.7027, -32.6166,  0.0000,   0.0000],\n",
    "                      [20.3926, -12.2569,  0.0000,   0.0000],\n",
    "                      [ 4.1875,   3.9382,  0.0000,   0.0000],\n",
    "                      [ 4.1875,   3.9382,  0.0000,   0.0000],\n",
    "                      [ 6.8000,   0.0000,  0.0000,   0.0000]\n",
    "                      [ 5.8000,   0.0000,  0.0000,   0.0000]\n",
    "                      [ 1.4500,   0.0000,  0.0000,   0.0000]])\n",
    "\n",
    "\n",
    "vs_params = np.array([[ 3.6678,   0.0000,  -4.4475,  0.0000],\n",
    "                      [ 0.0000,   0.0000,   0.0000,  0.0000],\n",
    "                      [ 6.9254,   1.4672,  -2.0834,  0.9783],\n",
    "                      [11.1671, -13.7818,  17.4575, -9.2777],\n",
    "                      [22.3459, -17.2473,  -2.0834,  0.9783],\n",
    "                      [ 9.9839,  -4.9324,   0.0000,  0.0000],\n",
    "                      [22.3512, -18.5856,   0.0000,  0.0000],\n",
    "                      [ 8.9496,  -4.4597,   0.0000,  0.0000],\n",
    "                      [ 2.1519,   2.3481,   0.0000,  0.0000],\n",
    "                      [ 2.1519,   2.3481,   0.0000,  0.0000],\n",
    "                      [ 3.9000,   0.0000,   0.0000,  0.0000],.\n",
    "                      [ 3.2000,   0.0000,   0.0000,  0.0000],\n",
    "                      [ 0.0000,   0.0000,   0.0000,  0.0000]])\n",
    "\n",
    "q_kappa_params = np.array([1327.7, 57823.0, 57823.0, 57823.0, 57823.0,\n",
    "                           57823.0, 57823.0, 57823.0, 57823.0, 57823.0,\n",
    "                           57823.0, 57823.0, 57823.0])\n",
    "\n",
    "q_mu_params = np.array([84.6, np.inf, 312.0, 312.0, 312.0, 143.0, 143.0,\n",
    "                        143.0, 80.0, 600.0, 600.0, 600.0, np.inf])\n",
    "                          \n",
    "# All 14 discontiuities in PREM in km.\n",
    "breakpoints = np.array([0.0, 1221.5, 3480.0, 3630.0, 5600.0, 5701.0, 5771.0,\n",
    "                        5971.0, 6151.0, 6291.0, 6346.6, 6356.0, 6368.0, 6371.0]\n",
    "\n",
    "# Turn range of polynomials from 0 - 1 to 0 - r_earth\n",
    "vp_params[:,1] = vp_params[:,1] / r_earth \n",
    "vp_params[:,2] = vp_params[:,2] / (r_earth**2)\n",
    "vp_params[:,3] = vp_params[:,3] / (r_earth**3)\n",
    "# Turn range of polynomials from 0 - 1 to 0 - r_earth\n",
    "vs_params[:,1] = vs_params[:,1] / r_earth \n",
    "vs_params[:,2] = vs_params[:,2] / (r_earth**2)\n",
    "vs_params[:,3] = vs_params[:,3] / (r_earth**3)\n",
    "                       \n",
    "prem = earth_model.Prem(breakpoints=breakpoints, r_earth=r_earth, vp_params=vp_params,\n",
    "                        vs_params=vs_params, q_mu_params=q_mu_params,\n",
    "                        q_kappa_params=q_kappa_params)"
   ]
  }
 ],
 "metadata": {
  "kernelspec": {
   "display_name": "Python 3",
   "language": "python",
   "name": "python3"
  },
  "language_info": {
   "codemirror_mode": {
    "name": "ipython",
    "version": 3
   },
   "file_extension": ".py",
   "mimetype": "text/x-python",
   "name": "python",
   "nbconvert_exporter": "python",
   "pygments_lexer": "ipython3",
   "version": "3.7.3"
  }
 },
 "nbformat": 4,
 "nbformat_minor": 2
}
