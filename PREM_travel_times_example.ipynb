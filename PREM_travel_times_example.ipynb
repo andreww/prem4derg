{
 "cells": [
  {
   "cell_type": "code",
   "execution_count": 1,
   "metadata": {},
   "outputs": [],
   "source": [
    "import numpy as np\n",
    "import matplotlib.pyplot as plt\n",
    "\n",
    "import obspy.taup\n",
    "\n",
    "%matplotlib inline "
   ]
  },
  {
   "cell_type": "code",
   "execution_count": 2,
   "metadata": {},
   "outputs": [],
   "source": [
    "import earth_model"
   ]
  },
  {
   "cell_type": "code",
   "execution_count": 5,
   "metadata": {},
   "outputs": [],
   "source": [
    "prem = earth_model.Prem()"
   ]
  },
  {
   "cell_type": "code",
   "execution_count": 26,
   "metadata": {},
   "outputs": [
    {
     "name": "stdout",
     "output_type": "stream",
     "text": [
      "0 0.0 6371.0\n",
      "1 3.0 5149.5\n",
      "2 15.0 2891.0\n",
      "3 24.399999999999636 2741.0\n",
      "4 80.0 771.0\n",
      "5 220.0 670.0\n",
      "6 400.0 600.0\n",
      "7 600.0 400.0\n",
      "8 670.0 220.0\n",
      "9 771.0 80.0\n",
      "10 2741.0 24.399999999999636\n",
      "11 2891.0 15.0\n",
      "12 5149.5 3.0\n",
      "13 6371.0 0.0\n"
     ]
    }
   ],
   "source": [
    "# write out tvel model\n",
    "# This is defined in read_tvel_file in https://github.com/obspy/obspy/blob/master/obspy/taup/velocity_model.py\n",
    "# as:\n",
    "#\n",
    "#            comment line - generally info about the P velocity model\n",
    "#            comment line - generally info about the S velocity model\n",
    "#            depth pVel sVel Density\n",
    "#            depth pVel sVel Density\n",
    "# depths in km, velocities in km/s, density in g/cc (i.e. our density / 1000)\n",
    "# we need to insert the discontiuities.\n",
    "\n",
    "for i, bp in enumerate(prem.density_poly.breakpoints[-1::-1]):\n",
    "    print(i, (prem.r_earth - bp), (prem.r_earth - prem.density_poly.breakpoints[i]))"
   ]
  },
  {
   "cell_type": "code",
   "execution_count": 36,
   "metadata": {},
   "outputs": [
    {
     "name": "stdout",
     "output_type": "stream",
     "text": [
      "layer 13\n",
      "Depth:  0.0 -- 3.0\n",
      "Radius:  6371.0 -- 6368.0\n",
      "layer 12\n",
      "Depth:  3.0 -- 15.0\n",
      "Radius:  6368.0 -- 6356.0\n",
      "layer 11\n",
      "Depth:  15.0 -- 24.399999999999636\n",
      "Radius:  6356.0 -- 6346.6\n",
      "layer 10\n",
      "Depth:  24.399999999999636 -- 80.0\n",
      "Radius:  6346.6 -- 6291.0\n",
      "layer 9\n",
      "Depth:  80.0 -- 220.0\n",
      "Radius:  6291.0 -- 6151.0\n",
      "layer 8\n",
      "Depth:  220.0 -- 400.0\n",
      "Radius:  6151.0 -- 5971.0\n",
      "layer 7\n",
      "Depth:  400.0 -- 600.0\n",
      "Radius:  5971.0 -- 5771.0\n",
      "layer 6\n",
      "Depth:  600.0 -- 670.0\n",
      "Radius:  5771.0 -- 5701.0\n",
      "layer 5\n",
      "Depth:  670.0 -- 771.0\n",
      "Radius:  5701.0 -- 5600.0\n",
      "layer 4\n",
      "Depth:  771.0 -- 2741.0\n",
      "Radius:  5600.0 -- 3630.0\n",
      "layer 3\n",
      "Depth:  2741.0 -- 2891.0\n",
      "Radius:  3630.0 -- 3480.0\n",
      "layer 2\n",
      "Depth:  2891.0 -- 5149.5\n",
      "Radius:  3480.0 -- 1221.5\n",
      "layer 1\n",
      "Depth:  5149.5 -- 6371.0\n",
      "Radius:  1221.5 -- 0.0\n"
     ]
    }
   ],
   "source": [
    "nbps = len(prem.density_poly.breakpoints) -1\n",
    "for i in range(nbps):\n",
    "    print(\"layer\", nbps - i)\n",
    "    j = nbps - i\n",
    "    k = j - 1\n",
    "    print(\"Depth: \", prem.r_earth - prem.density_poly.breakpoints[j], \"--\", prem.r_earth - prem.density_poly.breakpoints[k])\n",
    "    print(\"Radius: \", prem.density_poly.breakpoints[j], \"--\", prem.density_poly.breakpoints[k])"
   ]
  },
  {
   "cell_type": "code",
   "execution_count": null,
   "metadata": {},
   "outputs": [],
   "source": []
  }
 ],
 "metadata": {
  "kernelspec": {
   "display_name": "Python 3",
   "language": "python",
   "name": "python3"
  },
  "language_info": {
   "codemirror_mode": {
    "name": "ipython",
    "version": 3
   },
   "file_extension": ".py",
   "mimetype": "text/x-python",
   "name": "python",
   "nbconvert_exporter": "python",
   "pygments_lexer": "ipython3",
   "version": "3.7.3"
  }
 },
 "nbformat": 4,
 "nbformat_minor": 2
}
